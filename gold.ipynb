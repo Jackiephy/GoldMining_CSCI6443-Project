# LinearRegression is a machine learning library for linear regression
from sklearn.linear_model import LinearRegression
# pandas and numpy are used for data manipulation
import pandas as pd
import numpy as np
# matplotlib and seaborn are used for plotting graphs
import matplotlib.pyplot as plt
import seaborn
# fix_yahoo_finance is used to fetch data
import fix_yahoo_finance as yf
# Read data
Df = yf.download('GLD','2008-01-01','2019-04-24')
# Only keep close columns
Df=Df[['Close']]
# Drop rows with missing values
Df= Df.dropna()
# Plot the closing price of GLD
Df.Close.plot(figsize=(10,5))
plt.ylabel("Gold ETF Prices")
plt.show()
Backend TkAgg is interactive backend. Turning interactive mode on.
[*********************100%***********************]  1 of 1 downloaded
Df['S_3'] = Df['Close'].shift(1).rolling(window=3).mean()
Df['S_9'] = Df['Close'].shift(1).rolling(window=9).mean()
Df= Df.dropna()
X = Df[['S_3','S_9']]
X.head()
Out[3]: 
                  S_3        S_9
Date                            
2008-01-15  88.790000  86.670000
2008-01-16  88.703333  87.017778
2008-01-17  88.076667  87.143333
2008-01-18  87.063333  87.295556
2008-01-22  86.873333  87.590000
y = Df['Close']
y.head()
Out[4]: 
Date
2008-01-15    87.99
2008-01-16    86.70
2008-01-17    86.50
2008-01-18    87.42
2008-01-22    88.17
Name: Close, dtype: float64
t=.8
t = int(t*len(Df))
# Train dataset
X_train = X[:t]
y_train = y[:t]
# Test dataset
X_test = X[t:]
y_test = y[t:]
linear = LinearRegression().fit(X_train,y_train)
print "Gold ETF Price =", round(linear.coef_[0],2), \
      "* 3 Days Moving Average", round(linear.coef_[1],2), \
      "* 9 Days Moving Average +", round(linear.intercept_,2)
Gold ETF Price = 1.2 * 3 Days Moving Average -0.2 * 9 Days Moving Average + 0.42
predicted_price = linear.predict(X_test)
predicted_price = pd.DataFrame(predicted_price,index=y_test.index,columns = ['price'])
predicted_price.plot(figsize=(10,5))
y_test.plot()
plt.legend(['predicted_price','actual_price'])
plt.ylabel("Gold ETF Price")
plt.show()
r2_score = linear.score(X[t:],y[t:])*100
float("{0:.2f}".format(r2_score))
Out[8]: 95.3
